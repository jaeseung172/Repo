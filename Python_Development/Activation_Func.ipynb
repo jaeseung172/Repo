{
 "cells": [
  {
   "cell_type": "markdown",
   "metadata": {},
   "source": [
    "### 3.2 활성화 함수: Pg 68 ~ Pg 77\n",
    "\n",
    "[위키피디아(영문)](https://en.wikipedia.org/wiki/Activation_function)에 자세한 설명이 되어 있습니다만, 책에서는 활성화 함수는 입력 신호의 총합이 활성화를 일으키는지 정하는 역할을 한다고 하고 있습니다.\n",
    "\n",
    "저 페이지에서 밑쪽에 있는 표들을 보면서 식대로 구현해 보도록 하겠습니다, 파이썬의 stdlib 중에서 `Math` 라이브러리를 사용하여 기본적인 처리를 해보도록 하겠습니다. \n",
    "\n",
    "파이썬 수학 라이브러리는 [레퍼런스](https://docs.python.org/3/library/math.html)를 참고하시면 됩니다, 여기에서는 step, sigmoid, Relu 함수를 def 를 사용하여 만들어 구현하였습니다.\n",
    "\n",
    "각각 함수를 사용하여 구현한 후에 matplotlib 라이브러리를 사용하여 시각화를 해보도록 하겠습니다\n",
    "\n",
    "(제가 넘파이 안쓰는 이유는 제 크롬북에서 사용이 불가하기도 하고, Python Standard Library(stdlib)를 조금 더 사용할려고 하는 생각에 작성하게 되었습니다...만 제 크롬북에서 구동이 되는게 확인이 되었습니다.)\n",
    "\n",
    "(그냥 외부 라이브러리 안쓰고 한번 작성해보고 싶다는 생각(오기?)에 한번 작성해본 겁니다, 저는 뭐 넘파이 사용하는거 깔 생각 없다는거 말씀드립니다.)"
   ]
  },
  {
   "cell_type": "code",
   "execution_count": 2,
   "metadata": {
    "collapsed": false
   },
   "outputs": [],
   "source": [
    "import math\n",
    "import matplotlib.pyplot as plt"
   ]
  },
  {
   "cell_type": "code",
   "execution_count": 61,
   "metadata": {
    "collapsed": false
   },
   "outputs": [],
   "source": [
    "def Step(x):\n",
    "    if x < 0:\n",
    "        return 0\n",
    "    elif x >= 0:\n",
    "        return 1\n",
    "    \n",
    "def Sigmoid(x):\n",
    "    return 1 / (1 + math.exp(-x))\n",
    "\n",
    "def Relu(x):\n",
    "    if x < 0:\n",
    "        return 0\n",
    "    elif x >= 0:\n",
    "        return x"
   ]
  },
  {
   "cell_type": "markdown",
   "metadata": {},
   "source": [
    "### 코드 테스트"
   ]
  },
  {
   "cell_type": "code",
   "execution_count": 62,
   "metadata": {
    "collapsed": false
   },
   "outputs": [
    {
     "data": {
      "text/plain": [
       "1"
      ]
     },
     "execution_count": 62,
     "metadata": {},
     "output_type": "execute_result"
    }
   ],
   "source": [
    "Step(5)"
   ]
  },
  {
   "cell_type": "code",
   "execution_count": 63,
   "metadata": {
    "collapsed": false
   },
   "outputs": [
    {
     "data": {
      "text/plain": [
       "0.8807970779778823"
      ]
     },
     "execution_count": 63,
     "metadata": {},
     "output_type": "execute_result"
    }
   ],
   "source": [
    "Sigmoid(2.0)"
   ]
  },
  {
   "cell_type": "code",
   "execution_count": 39,
   "metadata": {
    "collapsed": false
   },
   "outputs": [
    {
     "data": {
      "text/plain": [
       "3"
      ]
     },
     "execution_count": 39,
     "metadata": {},
     "output_type": "execute_result"
    }
   ],
   "source": [
    "Relu(3)"
   ]
  },
  {
   "cell_type": "markdown",
   "metadata": {},
   "source": [
    "### 그래프로 출력해보기"
   ]
  },
  {
   "cell_type": "code",
   "execution_count": 40,
   "metadata": {
    "collapsed": false
   },
   "outputs": [
    {
     "data": {
      "image/png": "[encoded data removed]",
      "text/plain": [
       "<matplotlib.figure.Figure at 0x1754154bd30>"
      ]
     },
     "metadata": {},
     "output_type": "display_data"
    }
   ],
   "source": [
    "# 우선 그래프를 사용해서 0부터 5까지의 그래프를 출력해보자\n",
    "# plt.plot, plt.show 함수를 사용하면 된다.\n",
    "a = []\n",
    "for i in range(5):\n",
    "    a.append(i)\n",
    "plt.plot(a)\n",
    "plt.show()"
   ]
  },
  {
   "cell_type": "code",
   "execution_count": 41,
   "metadata": {
    "collapsed": false
   },
   "outputs": [],
   "source": [
    "# 그러면 Step 함수부터 시작해서 그려보자, -5, 5 의 범위를 정한 후에 0.1씩 커지도록 만들어서 리스트형으로 Append \n",
    "# 한 후에 함수를 실행시킨 후에 x, y를 대치하여 실행하면 된다\n",
    "a = []\n",
    "y = []\n",
    "for i in range(-50, 50):\n",
    "    a.append(float(\"%.2f\"%(i * 0.1)))\n",
    "for j in a:\n",
    "    y.append(Step(j))"
   ]
  },
  {
   "cell_type": "code",
   "execution_count": 45,
   "metadata": {
    "collapsed": false
   },
   "outputs": [
    {
     "data": {
      "image/png": "[encoded data removed]",
      "text/plain": [
       "<matplotlib.figure.Figure at 0x1754167cf28>"
      ]
     },
     "metadata": {},
     "output_type": "display_data"
    }
   ],
   "source": [
    "plt.plot(a, y)\n",
    "plt.title('Step Function Test')\n",
    "plt.show()"
   ]
  },
  {
   "cell_type": "code",
   "execution_count": 74,
   "metadata": {
    "collapsed": false
   },
   "outputs": [],
   "source": [
    "# 시그모이드 함수 테스트, 이것도 간단함\n",
    "a = []\n",
    "y = []\n",
    "for i in range(-50, 50):\n",
    "    a.append(float(\"%.2f\"%(i * 0.1)))\n",
    "for j in a:\n",
    "    y.append(Sigmoid(j))"
   ]
  },
  {
   "cell_type": "code",
   "execution_count": 75,
   "metadata": {
    "collapsed": false
   },
   "outputs": [
    {
     "data": {
      "image/png": "[encoded data removed]",
      "text/plain": [
       "<matplotlib.figure.Figure at 0x1754151f6d8>"
      ]
     },
     "metadata": {},
     "output_type": "display_data"
    }
   ],
   "source": [
    "plt.plot(a, y)\n",
    "plt.title(\"Sigmoid Graph Test\")\n",
    "plt.show()"
   ]
  },
  {
   "cell_type": "code",
   "execution_count": 71,
   "metadata": {
    "collapsed": false
   },
   "outputs": [
    {
     "data": {
      "image/png": "[encoded data removed]",
      "text/plain": [
       "<matplotlib.figure.Figure at 0x1754181f0b8>"
      ]
     },
     "metadata": {},
     "output_type": "display_data"
    }
   ],
   "source": [
    "# 페이지 74의 시그모이드와 계단 함수의 비교\n",
    "x = []\n",
    "y = []\n",
    "z = []\n",
    "f = []\n",
    "for i in range(-50, 50):\n",
    "    x.append(float(\"%.2f\"%(i * 0.1)))\n",
    "for j in x:\n",
    "    y.append(Step(j))\n",
    "for k in range(-50, 50):\n",
    "    z.append(float(\"%.2f\"%(k * 0.1)))\n",
    "for zh in z:\n",
    "    f.append(Sigmoid(zh))\n",
    "plt.plot(x, y, z, f)\n",
    "plt.title(\"Compare Step Func. & Sigmoid Func.\")\n",
    "plt.show()"
   ]
  },
  {
   "cell_type": "code",
   "execution_count": 72,
   "metadata": {
    "collapsed": false
   },
   "outputs": [
    {
     "data": {
      "image/png": "[encoded data removed]",
      "text/plain": [
       "<matplotlib.figure.Figure at 0x17541818ac8>"
      ]
     },
     "metadata": {},
     "output_type": "display_data"
    }
   ],
   "source": [
    "# Relu 함수 그리기까지\n",
    "x = []\n",
    "y = []\n",
    "for i in range(-50, 50):\n",
    "    x.append(float(\"%.2f\"%(i * 0.1)))\n",
    "for j in x:\n",
    "    y.append(Relu(j))\n",
    "plt.plot(x, y)\n",
    "plt.title(\"Relu Function's Graph\")\n",
    "plt.show()"
   ]
  },
  {
   "cell_type": "code",
   "execution_count": null,
   "metadata": {
    "collapsed": true
   },
   "outputs": [],
   "source": []
  }
 ],
 "metadata": {
  "kernelspec": {
   "display_name": "Python 3",
   "language": "python",
   "name": "python3"
  },
  "language_info": {
   "codemirror_mode": {
    "name": "ipython",
    "version": 3
   },
   "file_extension": ".py",
   "mimetype": "text/x-python",
   "name": "python",
   "nbconvert_exporter": "python",
   "pygments_lexer": "ipython3",
   "version": "3.6.0"
  }
 },
 "nbformat": 4,
 "nbformat_minor": 2
}
