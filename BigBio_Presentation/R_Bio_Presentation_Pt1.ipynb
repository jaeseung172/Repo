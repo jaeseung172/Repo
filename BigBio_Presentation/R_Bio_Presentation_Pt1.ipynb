{
 "cells": [
  {
   "cell_type": "markdown",
   "metadata": {},
   "source": [
    "# 알바이오 첫번째 발표\n",
    "\n",
    "- 발표자료를 참고하시면 도움이 됩니다\n",
    "\n",
    "### SeqinR 패키지 설치하고 불러와보기"
   ]
  },
  {
   "cell_type": "code",
   "execution_count": 3,
   "metadata": {
    "collapsed": false
   },
   "outputs": [],
   "source": [
    "#install.packages(\"seqinr\")\n",
    "library(seqinr)"
   ]
  },
  {
   "cell_type": "markdown",
   "metadata": {},
   "source": [
    "# SeqinR 패키지 불러오기"
   ]
  },
  {
   "cell_type": "code",
   "execution_count": 2,
   "metadata": {
    "collapsed": true
   },
   "outputs": [],
   "source": [
    "library(seqinr)"
   ]
  },
  {
   "cell_type": "code",
   "execution_count": 3,
   "metadata": {
    "collapsed": false,
    "scrolled": true
   },
   "outputs": [
    {
     "data": {
      "text/html": [
       "<ol class=list-inline>\n",
       "\t<li>'a'</li>\n",
       "\t<li>'aaa'</li>\n",
       "\t<li>'AAstat'</li>\n",
       "\t<li>'acnucclose'</li>\n",
       "\t<li>'acnucopen'</li>\n",
       "\t<li>'al2bp'</li>\n",
       "\t<li>'alllistranks'</li>\n",
       "\t<li>'alr'</li>\n",
       "\t<li>'amb'</li>\n",
       "\t<li>'as.alignment'</li>\n",
       "\t<li>'as.matrix.alignment'</li>\n",
       "\t<li>'as.SeqAcnucWeb'</li>\n",
       "\t<li>'as.SeqFastaAA'</li>\n",
       "\t<li>'as.SeqFastadna'</li>\n",
       "\t<li>'as.SeqFrag'</li>\n",
       "\t<li>'autosocket'</li>\n",
       "\t<li>'baselineabif'</li>\n",
       "\t<li>'bma'</li>\n",
       "\t<li>'c2s'</li>\n",
       "\t<li>'cai'</li>\n",
       "\t<li>'cfl'</li>\n",
       "\t<li>'choosebank'</li>\n",
       "\t<li>'circle'</li>\n",
       "\t<li>'clfcd'</li>\n",
       "\t<li>'clientid'</li>\n",
       "\t<li>'closebank'</li>\n",
       "\t<li>'col2alpha'</li>\n",
       "\t<li>'comp'</li>\n",
       "\t<li>'computePI'</li>\n",
       "\t<li>'con'</li>\n",
       "\t<li>'consensus'</li>\n",
       "\t<li>'count'</li>\n",
       "\t<li>'countfreelists'</li>\n",
       "\t<li>'countsubseqs'</li>\n",
       "\t<li>'crelistfromclientdata'</li>\n",
       "\t<li>'css'</li>\n",
       "\t<li>'dia.bactgensize'</li>\n",
       "\t<li>'dia.db.growth'</li>\n",
       "\t<li>'dist.alignment'</li>\n",
       "\t<li>'dotchart.uco'</li>\n",
       "\t<li>'dotPlot'</li>\n",
       "\t<li>'draw.oriloc'</li>\n",
       "\t<li>'draw.rearranged.oriloc'</li>\n",
       "\t<li>'draw.recstat'</li>\n",
       "\t<li>'exseq'</li>\n",
       "\t<li>'extract.breakpoints'</li>\n",
       "\t<li>'extractseqs'</li>\n",
       "\t<li>'fastacc'</li>\n",
       "\t<li>'gb2fasta'</li>\n",
       "\t<li>'gbk2g2'</li>\n",
       "\t<li>'gbk2g2.euk'</li>\n",
       "\t<li>'GC'</li>\n",
       "\t<li>'GC1'</li>\n",
       "\t<li>'GC2'</li>\n",
       "\t<li>'GC3'</li>\n",
       "\t<li>'GCpos'</li>\n",
       "\t<li>'getAnnot'</li>\n",
       "\t<li>'getAnnot.default'</li>\n",
       "\t<li>'getAnnot.list'</li>\n",
       "\t<li>'getAnnot.logical'</li>\n",
       "\t<li>'getAnnot.qaw'</li>\n",
       "\t<li>'getAnnot.SeqAcnucWeb'</li>\n",
       "\t<li>'getAnnot.SeqFastaAA'</li>\n",
       "\t<li>'getAnnot.SeqFastadna'</li>\n",
       "\t<li>'getAttributsocket'</li>\n",
       "\t<li>'get.db.growth'</li>\n",
       "\t<li>'getFrag'</li>\n",
       "\t<li>'getFrag.character'</li>\n",
       "\t<li>'getFrag.default'</li>\n",
       "\t<li>'getFrag.list'</li>\n",
       "\t<li>'getFrag.logical'</li>\n",
       "\t<li>'getFrag.qaw'</li>\n",
       "\t<li>'getFrag.SeqAcnucWeb'</li>\n",
       "\t<li>'getFrag.SeqFastaAA'</li>\n",
       "\t<li>'getFrag.SeqFastadna'</li>\n",
       "\t<li>'getFrag.SeqFrag'</li>\n",
       "\t<li>'getKeyword'</li>\n",
       "\t<li>'getKeyword.default'</li>\n",
       "\t<li>'getKeyword.list'</li>\n",
       "\t<li>'getKeyword.logical'</li>\n",
       "\t<li>'getKeyword.qaw'</li>\n",
       "\t<li>'getKeyword.SeqAcnucWeb'</li>\n",
       "\t<li>'getLength'</li>\n",
       "\t<li>'getLength.character'</li>\n",
       "\t<li>'getLength.default'</li>\n",
       "\t<li>'getLength.list'</li>\n",
       "\t<li>'getLength.logical'</li>\n",
       "\t<li>'getLength.qaw'</li>\n",
       "\t<li>'getLength.SeqAcnucWeb'</li>\n",
       "\t<li>'getLength.SeqFastaAA'</li>\n",
       "\t<li>'getLength.SeqFastadna'</li>\n",
       "\t<li>'getLength.SeqFrag'</li>\n",
       "\t<li>'getlistrank'</li>\n",
       "\t<li>'getliststate'</li>\n",
       "\t<li>'getLocation'</li>\n",
       "\t<li>'getLocation.default'</li>\n",
       "\t<li>'getLocation.list'</li>\n",
       "\t<li>'getLocation.logical'</li>\n",
       "\t<li>'getLocation.qaw'</li>\n",
       "\t<li>'getLocation.SeqAcnucWeb'</li>\n",
       "\t<li>'getName'</li>\n",
       "\t<li>'getName.default'</li>\n",
       "\t<li>'getName.list'</li>\n",
       "\t<li>'getName.logical'</li>\n",
       "\t<li>'getName.qaw'</li>\n",
       "\t<li>'getName.SeqAcnucWeb'</li>\n",
       "\t<li>'getName.SeqFastaAA'</li>\n",
       "\t<li>'getName.SeqFastadna'</li>\n",
       "\t<li>'getName.SeqFrag'</li>\n",
       "\t<li>'get.ncbi'</li>\n",
       "\t<li>'getNumber.socket'</li>\n",
       "\t<li>'getSequence'</li>\n",
       "\t<li>'getSequence.character'</li>\n",
       "\t<li>'getSequence.default'</li>\n",
       "\t<li>'getSequence.list'</li>\n",
       "\t<li>'getSequence.logical'</li>\n",
       "\t<li>'getSequence.qaw'</li>\n",
       "\t<li>'getSequence.SeqAcnucWeb'</li>\n",
       "\t<li>'getSequence.SeqFastaAA'</li>\n",
       "\t<li>'getSequence.SeqFastadna'</li>\n",
       "\t<li>'getSequence.SeqFrag'</li>\n",
       "\t<li>'getTrans'</li>\n",
       "\t<li>'getTrans.character'</li>\n",
       "\t<li>'getTrans.default'</li>\n",
       "\t<li>'getTrans.list'</li>\n",
       "\t<li>'getTrans.logical'</li>\n",
       "\t<li>'getTrans.qaw'</li>\n",
       "\t<li>'getTrans.SeqAcnucWeb'</li>\n",
       "\t<li>'getTrans.SeqFastadna'</li>\n",
       "\t<li>'getTrans.SeqFrag'</li>\n",
       "\t<li>'getType'</li>\n",
       "\t<li>'gfrag'</li>\n",
       "\t<li>'ghelp'</li>\n",
       "\t<li>'gln'</li>\n",
       "\t<li>'glr'</li>\n",
       "\t<li>'gls'</li>\n",
       "\t<li>'isenum'</li>\n",
       "\t<li>'isn'</li>\n",
       "\t<li>'is.SeqAcnucWeb'</li>\n",
       "\t<li>'is.SeqFastaAA'</li>\n",
       "\t<li>'is.SeqFastadna'</li>\n",
       "\t<li>'is.SeqFrag'</li>\n",
       "\t<li>'kaks'</li>\n",
       "\t<li>'kdb'</li>\n",
       "\t<li>'knowndbs'</li>\n",
       "\t<li>'lseqinr'</li>\n",
       "\t<li>'modifylist'</li>\n",
       "\t<li>'move'</li>\n",
       "\t<li>'mv'</li>\n",
       "\t<li>'n2s'</li>\n",
       "\t<li>'ncbi.fna.url'</li>\n",
       "\t<li>'ncbi.gbk.url'</li>\n",
       "\t<li>'ncbi.ptt.url'</li>\n",
       "\t<li>'ncbi.stats'</li>\n",
       "\t<li>'oriloc'</li>\n",
       "\t<li>'parser.socket'</li>\n",
       "\t<li>'peakabif'</li>\n",
       "\t<li>'permutation'</li>\n",
       "\t<li>'pga'</li>\n",
       "\t<li>'plotabif'</li>\n",
       "\t<li>'plotladder'</li>\n",
       "\t<li>'plotPanels'</li>\n",
       "\t<li>'plot.SeqAcnucWeb'</li>\n",
       "\t<li>'pmw'</li>\n",
       "\t<li>'prepgetannots'</li>\n",
       "\t<li>'prettyseq'</li>\n",
       "\t<li>'print.qaw'</li>\n",
       "\t<li>'print.SeqAcnucWeb'</li>\n",
       "\t<li>'query'</li>\n",
       "\t<li>'quitacnuc'</li>\n",
       "\t<li>'read.abif'</li>\n",
       "\t<li>'read.alignment'</li>\n",
       "\t<li>'readBins'</li>\n",
       "\t<li>'read.fasta'</li>\n",
       "\t<li>'readfirstrec'</li>\n",
       "\t<li>'readPanels'</li>\n",
       "\t<li>'readsmj'</li>\n",
       "\t<li>'rearranged.oriloc'</li>\n",
       "\t<li>'recstat'</li>\n",
       "\t<li>'residuecount'</li>\n",
       "\t<li>'reverse.align'</li>\n",
       "\t<li>'rho'</li>\n",
       "\t<li>'rot13'</li>\n",
       "\t<li>'s2c'</li>\n",
       "\t<li>'s2n'</li>\n",
       "\t<li>'savelist'</li>\n",
       "\t<li>'SEQINR.UTIL'</li>\n",
       "\t<li>'setlistname'</li>\n",
       "\t<li>'splitseq'</li>\n",
       "\t<li>'stresc'</li>\n",
       "\t<li>'stutterabif'</li>\n",
       "\t<li>'summary.SeqFastaAA'</li>\n",
       "\t<li>'summary.SeqFastadna'</li>\n",
       "\t<li>'swap'</li>\n",
       "\t<li>'syncodons'</li>\n",
       "\t<li>'synsequence'</li>\n",
       "\t<li>'tablecode'</li>\n",
       "\t<li>'test.co.recstat'</li>\n",
       "\t<li>'test.li.recstat'</li>\n",
       "\t<li>'translate'</li>\n",
       "\t<li>'trimSpace'</li>\n",
       "\t<li>'uco'</li>\n",
       "\t<li>'ucoweight'</li>\n",
       "\t<li>'where.is.this.acc'</li>\n",
       "\t<li>'words'</li>\n",
       "\t<li>'words.pos'</li>\n",
       "\t<li>'write.fasta'</li>\n",
       "\t<li>'zscore'</li>\n",
       "</ol>\n"
      ],
      "text/latex": [
       "\\begin{enumerate*}\n",
       "\\item 'a'\n",
       "\\item 'aaa'\n",
       "\\item 'AAstat'\n",
       "\\item 'acnucclose'\n",
       "\\item 'acnucopen'\n",
       "\\item 'al2bp'\n",
       "\\item 'alllistranks'\n",
       "\\item 'alr'\n",
       "\\item 'amb'\n",
       "\\item 'as.alignment'\n",
       "\\item 'as.matrix.alignment'\n",
       "\\item 'as.SeqAcnucWeb'\n",
       "\\item 'as.SeqFastaAA'\n",
       "\\item 'as.SeqFastadna'\n",
       "\\item 'as.SeqFrag'\n",
       "\\item 'autosocket'\n",
       "\\item 'baselineabif'\n",
       "\\item 'bma'\n",
       "\\item 'c2s'\n",
       "\\item 'cai'\n",
       "\\item 'cfl'\n",
       "\\item 'choosebank'\n",
       "\\item 'circle'\n",
       "\\item 'clfcd'\n",
       "\\item 'clientid'\n",
       "\\item 'closebank'\n",
       "\\item 'col2alpha'\n",
       "\\item 'comp'\n",
       "\\item 'computePI'\n",
       "\\item 'con'\n",
       "\\item 'consensus'\n",
       "\\item 'count'\n",
       "\\item 'countfreelists'\n",
       "\\item 'countsubseqs'\n",
       "\\item 'crelistfromclientdata'\n",
       "\\item 'css'\n",
       "\\item 'dia.bactgensize'\n",
       "\\item 'dia.db.growth'\n",
       "\\item 'dist.alignment'\n",
       "\\item 'dotchart.uco'\n",
       "\\item 'dotPlot'\n",
       "\\item 'draw.oriloc'\n",
       "\\item 'draw.rearranged.oriloc'\n",
       "\\item 'draw.recstat'\n",
       "\\item 'exseq'\n",
       "\\item 'extract.breakpoints'\n",
       "\\item 'extractseqs'\n",
       "\\item 'fastacc'\n",
       "\\item 'gb2fasta'\n",
       "\\item 'gbk2g2'\n",
       "\\item 'gbk2g2.euk'\n",
       "\\item 'GC'\n",
       "\\item 'GC1'\n",
       "\\item 'GC2'\n",
       "\\item 'GC3'\n",
       "\\item 'GCpos'\n",
       "\\item 'getAnnot'\n",
       "\\item 'getAnnot.default'\n",
       "\\item 'getAnnot.list'\n",
       "\\item 'getAnnot.logical'\n",
       "\\item 'getAnnot.qaw'\n",
       "\\item 'getAnnot.SeqAcnucWeb'\n",
       "\\item 'getAnnot.SeqFastaAA'\n",
       "\\item 'getAnnot.SeqFastadna'\n",
       "\\item 'getAttributsocket'\n",
       "\\item 'get.db.growth'\n",
       "\\item 'getFrag'\n",
       "\\item 'getFrag.character'\n",
       "\\item 'getFrag.default'\n",
       "\\item 'getFrag.list'\n",
       "\\item 'getFrag.logical'\n",
       "\\item 'getFrag.qaw'\n",
       "\\item 'getFrag.SeqAcnucWeb'\n",
       "\\item 'getFrag.SeqFastaAA'\n",
       "\\item 'getFrag.SeqFastadna'\n",
       "\\item 'getFrag.SeqFrag'\n",
       "\\item 'getKeyword'\n",
       "\\item 'getKeyword.default'\n",
       "\\item 'getKeyword.list'\n",
       "\\item 'getKeyword.logical'\n",
       "\\item 'getKeyword.qaw'\n",
       "\\item 'getKeyword.SeqAcnucWeb'\n",
       "\\item 'getLength'\n",
       "\\item 'getLength.character'\n",
       "\\item 'getLength.default'\n",
       "\\item 'getLength.list'\n",
       "\\item 'getLength.logical'\n",
       "\\item 'getLength.qaw'\n",
       "\\item 'getLength.SeqAcnucWeb'\n",
       "\\item 'getLength.SeqFastaAA'\n",
       "\\item 'getLength.SeqFastadna'\n",
       "\\item 'getLength.SeqFrag'\n",
       "\\item 'getlistrank'\n",
       "\\item 'getliststate'\n",
       "\\item 'getLocation'\n",
       "\\item 'getLocation.default'\n",
       "\\item 'getLocation.list'\n",
       "\\item 'getLocation.logical'\n",
       "\\item 'getLocation.qaw'\n",
       "\\item 'getLocation.SeqAcnucWeb'\n",
       "\\item 'getName'\n",
       "\\item 'getName.default'\n",
       "\\item 'getName.list'\n",
       "\\item 'getName.logical'\n",
       "\\item 'getName.qaw'\n",
       "\\item 'getName.SeqAcnucWeb'\n",
       "\\item 'getName.SeqFastaAA'\n",
       "\\item 'getName.SeqFastadna'\n",
       "\\item 'getName.SeqFrag'\n",
       "\\item 'get.ncbi'\n",
       "\\item 'getNumber.socket'\n",
       "\\item 'getSequence'\n",
       "\\item 'getSequence.character'\n",
       "\\item 'getSequence.default'\n",
       "\\item 'getSequence.list'\n",
       "\\item 'getSequence.logical'\n",
       "\\item 'getSequence.qaw'\n",
       "\\item 'getSequence.SeqAcnucWeb'\n",
       "\\item 'getSequence.SeqFastaAA'\n",
       "\\item 'getSequence.SeqFastadna'\n",
       "\\item 'getSequence.SeqFrag'\n",
       "\\item 'getTrans'\n",
       "\\item 'getTrans.character'\n",
       "\\item 'getTrans.default'\n",
       "\\item 'getTrans.list'\n",
       "\\item 'getTrans.logical'\n",
       "\\item 'getTrans.qaw'\n",
       "\\item 'getTrans.SeqAcnucWeb'\n",
       "\\item 'getTrans.SeqFastadna'\n",
       "\\item 'getTrans.SeqFrag'\n",
       "\\item 'getType'\n",
       "\\item 'gfrag'\n",
       "\\item 'ghelp'\n",
       "\\item 'gln'\n",
       "\\item 'glr'\n",
       "\\item 'gls'\n",
       "\\item 'isenum'\n",
       "\\item 'isn'\n",
       "\\item 'is.SeqAcnucWeb'\n",
       "\\item 'is.SeqFastaAA'\n",
       "\\item 'is.SeqFastadna'\n",
       "\\item 'is.SeqFrag'\n",
       "\\item 'kaks'\n",
       "\\item 'kdb'\n",
       "\\item 'knowndbs'\n",
       "\\item 'lseqinr'\n",
       "\\item 'modifylist'\n",
       "\\item 'move'\n",
       "\\item 'mv'\n",
       "\\item 'n2s'\n",
       "\\item 'ncbi.fna.url'\n",
       "\\item 'ncbi.gbk.url'\n",
       "\\item 'ncbi.ptt.url'\n",
       "\\item 'ncbi.stats'\n",
       "\\item 'oriloc'\n",
       "\\item 'parser.socket'\n",
       "\\item 'peakabif'\n",
       "\\item 'permutation'\n",
       "\\item 'pga'\n",
       "\\item 'plotabif'\n",
       "\\item 'plotladder'\n",
       "\\item 'plotPanels'\n",
       "\\item 'plot.SeqAcnucWeb'\n",
       "\\item 'pmw'\n",
       "\\item 'prepgetannots'\n",
       "\\item 'prettyseq'\n",
       "\\item 'print.qaw'\n",
       "\\item 'print.SeqAcnucWeb'\n",
       "\\item 'query'\n",
       "\\item 'quitacnuc'\n",
       "\\item 'read.abif'\n",
       "\\item 'read.alignment'\n",
       "\\item 'readBins'\n",
       "\\item 'read.fasta'\n",
       "\\item 'readfirstrec'\n",
       "\\item 'readPanels'\n",
       "\\item 'readsmj'\n",
       "\\item 'rearranged.oriloc'\n",
       "\\item 'recstat'\n",
       "\\item 'residuecount'\n",
       "\\item 'reverse.align'\n",
       "\\item 'rho'\n",
       "\\item 'rot13'\n",
       "\\item 's2c'\n",
       "\\item 's2n'\n",
       "\\item 'savelist'\n",
       "\\item 'SEQINR.UTIL'\n",
       "\\item 'setlistname'\n",
       "\\item 'splitseq'\n",
       "\\item 'stresc'\n",
       "\\item 'stutterabif'\n",
       "\\item 'summary.SeqFastaAA'\n",
       "\\item 'summary.SeqFastadna'\n",
       "\\item 'swap'\n",
       "\\item 'syncodons'\n",
       "\\item 'synsequence'\n",
       "\\item 'tablecode'\n",
       "\\item 'test.co.recstat'\n",
       "\\item 'test.li.recstat'\n",
       "\\item 'translate'\n",
       "\\item 'trimSpace'\n",
       "\\item 'uco'\n",
       "\\item 'ucoweight'\n",
       "\\item 'where.is.this.acc'\n",
       "\\item 'words'\n",
       "\\item 'words.pos'\n",
       "\\item 'write.fasta'\n",
       "\\item 'zscore'\n",
       "\\end{enumerate*}\n"
      ],
      "text/markdown": [
       "1. 'a'\n",
       "2. 'aaa'\n",
       "3. 'AAstat'\n",
       "4. 'acnucclose'\n",
       "5. 'acnucopen'\n",
       "6. 'al2bp'\n",
       "7. 'alllistranks'\n",
       "8. 'alr'\n",
       "9. 'amb'\n",
       "10. 'as.alignment'\n",
       "11. 'as.matrix.alignment'\n",
       "12. 'as.SeqAcnucWeb'\n",
       "13. 'as.SeqFastaAA'\n",
       "14. 'as.SeqFastadna'\n",
       "15. 'as.SeqFrag'\n",
       "16. 'autosocket'\n",
       "17. 'baselineabif'\n",
       "18. 'bma'\n",
       "19. 'c2s'\n",
       "20. 'cai'\n",
       "21. 'cfl'\n",
       "22. 'choosebank'\n",
       "23. 'circle'\n",
       "24. 'clfcd'\n",
       "25. 'clientid'\n",
       "26. 'closebank'\n",
       "27. 'col2alpha'\n",
       "28. 'comp'\n",
       "29. 'computePI'\n",
       "30. 'con'\n",
       "31. 'consensus'\n",
       "32. 'count'\n",
       "33. 'countfreelists'\n",
       "34. 'countsubseqs'\n",
       "35. 'crelistfromclientdata'\n",
       "36. 'css'\n",
       "37. 'dia.bactgensize'\n",
       "38. 'dia.db.growth'\n",
       "39. 'dist.alignment'\n",
       "40. 'dotchart.uco'\n",
       "41. 'dotPlot'\n",
       "42. 'draw.oriloc'\n",
       "43. 'draw.rearranged.oriloc'\n",
       "44. 'draw.recstat'\n",
       "45. 'exseq'\n",
       "46. 'extract.breakpoints'\n",
       "47. 'extractseqs'\n",
       "48. 'fastacc'\n",
       "49. 'gb2fasta'\n",
       "50. 'gbk2g2'\n",
       "51. 'gbk2g2.euk'\n",
       "52. 'GC'\n",
       "53. 'GC1'\n",
       "54. 'GC2'\n",
       "55. 'GC3'\n",
       "56. 'GCpos'\n",
       "57. 'getAnnot'\n",
       "58. 'getAnnot.default'\n",
       "59. 'getAnnot.list'\n",
       "60. 'getAnnot.logical'\n",
       "61. 'getAnnot.qaw'\n",
       "62. 'getAnnot.SeqAcnucWeb'\n",
       "63. 'getAnnot.SeqFastaAA'\n",
       "64. 'getAnnot.SeqFastadna'\n",
       "65. 'getAttributsocket'\n",
       "66. 'get.db.growth'\n",
       "67. 'getFrag'\n",
       "68. 'getFrag.character'\n",
       "69. 'getFrag.default'\n",
       "70. 'getFrag.list'\n",
       "71. 'getFrag.logical'\n",
       "72. 'getFrag.qaw'\n",
       "73. 'getFrag.SeqAcnucWeb'\n",
       "74. 'getFrag.SeqFastaAA'\n",
       "75. 'getFrag.SeqFastadna'\n",
       "76. 'getFrag.SeqFrag'\n",
       "77. 'getKeyword'\n",
       "78. 'getKeyword.default'\n",
       "79. 'getKeyword.list'\n",
       "80. 'getKeyword.logical'\n",
       "81. 'getKeyword.qaw'\n",
       "82. 'getKeyword.SeqAcnucWeb'\n",
       "83. 'getLength'\n",
       "84. 'getLength.character'\n",
       "85. 'getLength.default'\n",
       "86. 'getLength.list'\n",
       "87. 'getLength.logical'\n",
       "88. 'getLength.qaw'\n",
       "89. 'getLength.SeqAcnucWeb'\n",
       "90. 'getLength.SeqFastaAA'\n",
       "91. 'getLength.SeqFastadna'\n",
       "92. 'getLength.SeqFrag'\n",
       "93. 'getlistrank'\n",
       "94. 'getliststate'\n",
       "95. 'getLocation'\n",
       "96. 'getLocation.default'\n",
       "97. 'getLocation.list'\n",
       "98. 'getLocation.logical'\n",
       "99. 'getLocation.qaw'\n",
       "100. 'getLocation.SeqAcnucWeb'\n",
       "101. 'getName'\n",
       "102. 'getName.default'\n",
       "103. 'getName.list'\n",
       "104. 'getName.logical'\n",
       "105. 'getName.qaw'\n",
       "106. 'getName.SeqAcnucWeb'\n",
       "107. 'getName.SeqFastaAA'\n",
       "108. 'getName.SeqFastadna'\n",
       "109. 'getName.SeqFrag'\n",
       "110. 'get.ncbi'\n",
       "111. 'getNumber.socket'\n",
       "112. 'getSequence'\n",
       "113. 'getSequence.character'\n",
       "114. 'getSequence.default'\n",
       "115. 'getSequence.list'\n",
       "116. 'getSequence.logical'\n",
       "117. 'getSequence.qaw'\n",
       "118. 'getSequence.SeqAcnucWeb'\n",
       "119. 'getSequence.SeqFastaAA'\n",
       "120. 'getSequence.SeqFastadna'\n",
       "121. 'getSequence.SeqFrag'\n",
       "122. 'getTrans'\n",
       "123. 'getTrans.character'\n",
       "124. 'getTrans.default'\n",
       "125. 'getTrans.list'\n",
       "126. 'getTrans.logical'\n",
       "127. 'getTrans.qaw'\n",
       "128. 'getTrans.SeqAcnucWeb'\n",
       "129. 'getTrans.SeqFastadna'\n",
       "130. 'getTrans.SeqFrag'\n",
       "131. 'getType'\n",
       "132. 'gfrag'\n",
       "133. 'ghelp'\n",
       "134. 'gln'\n",
       "135. 'glr'\n",
       "136. 'gls'\n",
       "137. 'isenum'\n",
       "138. 'isn'\n",
       "139. 'is.SeqAcnucWeb'\n",
       "140. 'is.SeqFastaAA'\n",
       "141. 'is.SeqFastadna'\n",
       "142. 'is.SeqFrag'\n",
       "143. 'kaks'\n",
       "144. 'kdb'\n",
       "145. 'knowndbs'\n",
       "146. 'lseqinr'\n",
       "147. 'modifylist'\n",
       "148. 'move'\n",
       "149. 'mv'\n",
       "150. 'n2s'\n",
       "151. 'ncbi.fna.url'\n",
       "152. 'ncbi.gbk.url'\n",
       "153. 'ncbi.ptt.url'\n",
       "154. 'ncbi.stats'\n",
       "155. 'oriloc'\n",
       "156. 'parser.socket'\n",
       "157. 'peakabif'\n",
       "158. 'permutation'\n",
       "159. 'pga'\n",
       "160. 'plotabif'\n",
       "161. 'plotladder'\n",
       "162. 'plotPanels'\n",
       "163. 'plot.SeqAcnucWeb'\n",
       "164. 'pmw'\n",
       "165. 'prepgetannots'\n",
       "166. 'prettyseq'\n",
       "167. 'print.qaw'\n",
       "168. 'print.SeqAcnucWeb'\n",
       "169. 'query'\n",
       "170. 'quitacnuc'\n",
       "171. 'read.abif'\n",
       "172. 'read.alignment'\n",
       "173. 'readBins'\n",
       "174. 'read.fasta'\n",
       "175. 'readfirstrec'\n",
       "176. 'readPanels'\n",
       "177. 'readsmj'\n",
       "178. 'rearranged.oriloc'\n",
       "179. 'recstat'\n",
       "180. 'residuecount'\n",
       "181. 'reverse.align'\n",
       "182. 'rho'\n",
       "183. 'rot13'\n",
       "184. 's2c'\n",
       "185. 's2n'\n",
       "186. 'savelist'\n",
       "187. 'SEQINR.UTIL'\n",
       "188. 'setlistname'\n",
       "189. 'splitseq'\n",
       "190. 'stresc'\n",
       "191. 'stutterabif'\n",
       "192. 'summary.SeqFastaAA'\n",
       "193. 'summary.SeqFastadna'\n",
       "194. 'swap'\n",
       "195. 'syncodons'\n",
       "196. 'synsequence'\n",
       "197. 'tablecode'\n",
       "198. 'test.co.recstat'\n",
       "199. 'test.li.recstat'\n",
       "200. 'translate'\n",
       "201. 'trimSpace'\n",
       "202. 'uco'\n",
       "203. 'ucoweight'\n",
       "204. 'where.is.this.acc'\n",
       "205. 'words'\n",
       "206. 'words.pos'\n",
       "207. 'write.fasta'\n",
       "208. 'zscore'\n",
       "\n",
       "\n"
      ],
      "text/plain": [
       "  [1] \"a\"                       \"aaa\"                    \n",
       "  [3] \"AAstat\"                  \"acnucclose\"             \n",
       "  [5] \"acnucopen\"               \"al2bp\"                  \n",
       "  [7] \"alllistranks\"            \"alr\"                    \n",
       "  [9] \"amb\"                     \"as.alignment\"           \n",
       " [11] \"as.matrix.alignment\"     \"as.SeqAcnucWeb\"         \n",
       " [13] \"as.SeqFastaAA\"           \"as.SeqFastadna\"         \n",
       " [15] \"as.SeqFrag\"              \"autosocket\"             \n",
       " [17] \"baselineabif\"            \"bma\"                    \n",
       " [19] \"c2s\"                     \"cai\"                    \n",
       " [21] \"cfl\"                     \"choosebank\"             \n",
       " [23] \"circle\"                  \"clfcd\"                  \n",
       " [25] \"clientid\"                \"closebank\"              \n",
       " [27] \"col2alpha\"               \"comp\"                   \n",
       " [29] \"computePI\"               \"con\"                    \n",
       " [31] \"consensus\"               \"count\"                  \n",
       " [33] \"countfreelists\"          \"countsubseqs\"           \n",
       " [35] \"crelistfromclientdata\"   \"css\"                    \n",
       " [37] \"dia.bactgensize\"         \"dia.db.growth\"          \n",
       " [39] \"dist.alignment\"          \"dotchart.uco\"           \n",
       " [41] \"dotPlot\"                 \"draw.oriloc\"            \n",
       " [43] \"draw.rearranged.oriloc\"  \"draw.recstat\"           \n",
       " [45] \"exseq\"                   \"extract.breakpoints\"    \n",
       " [47] \"extractseqs\"             \"fastacc\"                \n",
       " [49] \"gb2fasta\"                \"gbk2g2\"                 \n",
       " [51] \"gbk2g2.euk\"              \"GC\"                     \n",
       " [53] \"GC1\"                     \"GC2\"                    \n",
       " [55] \"GC3\"                     \"GCpos\"                  \n",
       " [57] \"getAnnot\"                \"getAnnot.default\"       \n",
       " [59] \"getAnnot.list\"           \"getAnnot.logical\"       \n",
       " [61] \"getAnnot.qaw\"            \"getAnnot.SeqAcnucWeb\"   \n",
       " [63] \"getAnnot.SeqFastaAA\"     \"getAnnot.SeqFastadna\"   \n",
       " [65] \"getAttributsocket\"       \"get.db.growth\"          \n",
       " [67] \"getFrag\"                 \"getFrag.character\"      \n",
       " [69] \"getFrag.default\"         \"getFrag.list\"           \n",
       " [71] \"getFrag.logical\"         \"getFrag.qaw\"            \n",
       " [73] \"getFrag.SeqAcnucWeb\"     \"getFrag.SeqFastaAA\"     \n",
       " [75] \"getFrag.SeqFastadna\"     \"getFrag.SeqFrag\"        \n",
       " [77] \"getKeyword\"              \"getKeyword.default\"     \n",
       " [79] \"getKeyword.list\"         \"getKeyword.logical\"     \n",
       " [81] \"getKeyword.qaw\"          \"getKeyword.SeqAcnucWeb\" \n",
       " [83] \"getLength\"               \"getLength.character\"    \n",
       " [85] \"getLength.default\"       \"getLength.list\"         \n",
       " [87] \"getLength.logical\"       \"getLength.qaw\"          \n",
       " [89] \"getLength.SeqAcnucWeb\"   \"getLength.SeqFastaAA\"   \n",
       " [91] \"getLength.SeqFastadna\"   \"getLength.SeqFrag\"      \n",
       " [93] \"getlistrank\"             \"getliststate\"           \n",
       " [95] \"getLocation\"             \"getLocation.default\"    \n",
       " [97] \"getLocation.list\"        \"getLocation.logical\"    \n",
       " [99] \"getLocation.qaw\"         \"getLocation.SeqAcnucWeb\"\n",
       "[101] \"getName\"                 \"getName.default\"        \n",
       "[103] \"getName.list\"            \"getName.logical\"        \n",
       "[105] \"getName.qaw\"             \"getName.SeqAcnucWeb\"    \n",
       "[107] \"getName.SeqFastaAA\"      \"getName.SeqFastadna\"    \n",
       "[109] \"getName.SeqFrag\"         \"get.ncbi\"               \n",
       "[111] \"getNumber.socket\"        \"getSequence\"            \n",
       "[113] \"getSequence.character\"   \"getSequence.default\"    \n",
       "[115] \"getSequence.list\"        \"getSequence.logical\"    \n",
       "[117] \"getSequence.qaw\"         \"getSequence.SeqAcnucWeb\"\n",
       "[119] \"getSequence.SeqFastaAA\"  \"getSequence.SeqFastadna\"\n",
       "[121] \"getSequence.SeqFrag\"     \"getTrans\"               \n",
       "[123] \"getTrans.character\"      \"getTrans.default\"       \n",
       "[125] \"getTrans.list\"           \"getTrans.logical\"       \n",
       "[127] \"getTrans.qaw\"            \"getTrans.SeqAcnucWeb\"   \n",
       "[129] \"getTrans.SeqFastadna\"    \"getTrans.SeqFrag\"       \n",
       "[131] \"getType\"                 \"gfrag\"                  \n",
       "[133] \"ghelp\"                   \"gln\"                    \n",
       "[135] \"glr\"                     \"gls\"                    \n",
       "[137] \"isenum\"                  \"isn\"                    \n",
       "[139] \"is.SeqAcnucWeb\"          \"is.SeqFastaAA\"          \n",
       "[141] \"is.SeqFastadna\"          \"is.SeqFrag\"             \n",
       "[143] \"kaks\"                    \"kdb\"                    \n",
       "[145] \"knowndbs\"                \"lseqinr\"                \n",
       "[147] \"modifylist\"              \"move\"                   \n",
       "[149] \"mv\"                      \"n2s\"                    \n",
       "[151] \"ncbi.fna.url\"            \"ncbi.gbk.url\"           \n",
       "[153] \"ncbi.ptt.url\"            \"ncbi.stats\"             \n",
       "[155] \"oriloc\"                  \"parser.socket\"          \n",
       "[157] \"peakabif\"                \"permutation\"            \n",
       "[159] \"pga\"                     \"plotabif\"               \n",
       "[161] \"plotladder\"              \"plotPanels\"             \n",
       "[163] \"plot.SeqAcnucWeb\"        \"pmw\"                    \n",
       "[165] \"prepgetannots\"           \"prettyseq\"              \n",
       "[167] \"print.qaw\"               \"print.SeqAcnucWeb\"      \n",
       "[169] \"query\"                   \"quitacnuc\"              \n",
       "[171] \"read.abif\"               \"read.alignment\"         \n",
       "[173] \"readBins\"                \"read.fasta\"             \n",
       "[175] \"readfirstrec\"            \"readPanels\"             \n",
       "[177] \"readsmj\"                 \"rearranged.oriloc\"      \n",
       "[179] \"recstat\"                 \"residuecount\"           \n",
       "[181] \"reverse.align\"           \"rho\"                    \n",
       "[183] \"rot13\"                   \"s2c\"                    \n",
       "[185] \"s2n\"                     \"savelist\"               \n",
       "[187] \"SEQINR.UTIL\"             \"setlistname\"            \n",
       "[189] \"splitseq\"                \"stresc\"                 \n",
       "[191] \"stutterabif\"             \"summary.SeqFastaAA\"     \n",
       "[193] \"summary.SeqFastadna\"     \"swap\"                   \n",
       "[195] \"syncodons\"               \"synsequence\"            \n",
       "[197] \"tablecode\"               \"test.co.recstat\"        \n",
       "[199] \"test.li.recstat\"         \"translate\"              \n",
       "[201] \"trimSpace\"               \"uco\"                    \n",
       "[203] \"ucoweight\"               \"where.is.this.acc\"      \n",
       "[205] \"words\"                   \"words.pos\"              \n",
       "[207] \"write.fasta\"             \"zscore\"                 "
      ]
     },
     "metadata": {},
     "output_type": "display_data"
    }
   ],
   "source": [
    "lseqinr()"
   ]
  },
  {
   "cell_type": "markdown",
   "metadata": {
    "collapsed": true
   },
   "source": [
    "### Bioconductor 설치 및 실행"
   ]
  },
  {
   "cell_type": "code",
   "execution_count": 1,
   "metadata": {
    "collapsed": false
   },
   "outputs": [
    {
     "name": "stderr",
     "output_type": "stream",
     "text": [
      "Installing package into ‘/home/deepbio/R/i686-pc-linux-gnu-library/3.2’\n",
      "(as ‘lib’ is unspecified)\n"
     ]
    },
    {
     "name": "stdout",
     "output_type": "stream",
     "text": [
      "\n",
      "The downloaded source packages are in\n",
      "\t‘/tmp/RtmpLqiTUY/downloaded_packages’\n"
     ]
    },
    {
     "name": "stderr",
     "output_type": "stream",
     "text": [
      "Bioconductor version 3.2 (BiocInstaller 1.20.3), ?biocLite for help\n",
      "A new version of Bioconductor is available after installing the most recent\n",
      "  version of R; see http://bioconductor.org/install\n",
      "BioC_mirror: https://bioconductor.org\n",
      "Using Bioconductor 3.2 (BiocInstaller 1.20.3), R 3.2.3 (2015-12-10).\n",
      "Installing package(s) ‘Biobase’, ‘IRanges’, ‘AnnotationDbi’\n",
      "also installing the dependencies ‘BiocGenerics’, ‘S4Vectors’, ‘DBI’, ‘RSQLite’\n",
      "\n"
     ]
    },
    {
     "name": "stdout",
     "output_type": "stream",
     "text": [
      "\n",
      "The downloaded source packages are in\n",
      "\t‘/tmp/RtmpLqiTUY/downloaded_packages’\n"
     ]
    },
    {
     "name": "stderr",
     "output_type": "stream",
     "text": [
      "Old packages: 'boot', 'cluster', 'Matrix', 'mgcv', 'nlme', 'survival'\n"
     ]
    }
   ],
   "source": [
    "source(\"http://bioconductor.org/biocLite.R\")\n",
    "biocLite()"
   ]
  },
  {
   "cell_type": "markdown",
   "metadata": {},
   "source": [
    "### SeqinR 을 이용하여 NCBI 지놈 데이터를 가져오는 R 스크립트\n",
    "\n",
    "- 스크립트가 돌아가질 않습니다, 아마도 튜토리얼 시기에 만들어놓은 라이브러리가 지금의 라이브러리와는 살짝 달라서 그렇지 않나 싶습니다\n",
    "\n",
    "- 그래서 일단 FASTA 파일을 Write 한 뒤에 읽어들여 보겠습니다"
   ]
  },
  {
   "cell_type": "code",
   "execution_count": 8,
   "metadata": {
    "collapsed": true
   },
   "outputs": [],
   "source": [
    "getncbiseq <- function(accession) # Fucntion 을 만들고\n",
    "  {\n",
    "    library(seqinr) # 이 함수는 seqinr 패키지를 필요로 하기 때문에 require 문을 사용하여 임포트함 \n",
    "    # first find which ACNUC database the accession is stored in:\n",
    "    dbs <- c(\"genbank\",\"refseq\",\"refseqViruses\",\"bacterial\")\n",
    "    numdbs <- length(dbs)\n",
    "    for (i in 1:numdbs)\n",
    "    {\n",
    "        db <- dbs[i]\n",
    "        choosebank(db)\n",
    "        # check if the sequence is in ACNUC database 'db':\n",
    "        resquery <- try(query(\".tmpquery\", paste(\"AC=\", accession)), silent = TRUE)\n",
    "        if (!(inherits(resquery, \"try-error\")))\n",
    "        {\n",
    "           queryname <- \"query2\"\n",
    "           thequery <- paste(\"AC=\",accession,sep=\"\")\n",
    "           query(`queryname`,`thequery`)\n",
    "           # see if a sequence was retrieved:\n",
    "           seq <- getSequence(query2$req[[1]])\n",
    "           closebank()\n",
    "           return(seq)\n",
    "        }\n",
    "        closebank()\n",
    "     }\n",
    "     print(paste(\"ERROR: accession\",accession,\"was not found\")) # 만약에 시도한 값이 발견되지 않으면 에러를 리턴\n",
    "  }"
   ]
  },
  {
   "cell_type": "code",
   "execution_count": 9,
   "metadata": {
    "collapsed": false
   },
   "outputs": [],
   "source": [
    "dengueseq <- getncbiseq(\"NC_001477\")"
   ]
  },
  {
   "cell_type": "markdown",
   "metadata": {},
   "source": [
    "원래 **denguseq[1:50]** 을 입력했을 시에 결과값이\n",
    "\n",
    "![IMG](DNASEQ_RESULT.JPG)\n",
    "\n",
    "이 나와야 정상입니다만, 나오질 않아서 다른 방법으로 시도해 보도록 하겠습니다\n",
    "\n",
    "일단 FASTA 파일을 쓰고, 읽어보도록 하겠습니다\n",
    "\n",
    "일단 파일을 읽는 함수 read.fasta(file = 파일이름)[[1]] 을 사용해보도록 하겠습니다"
   ]
  },
  {
   "cell_type": "markdown",
   "metadata": {},
   "source": [
    "![IMG](how to use count.JPG)\n",
    "\n",
    "이들이 이야기하는대로 다시 시도해 봅시다\n",
    "\n",
    "여기에서 system 문은 사용하지 마시고 믿에 구문을 사용하면 됩니다"
   ]
  },
  {
   "cell_type": "code",
   "execution_count": 4,
   "metadata": {
    "collapsed": false
   },
   "outputs": [],
   "source": [
    "myseq <- read.fasta(file = \"den1.fasta\")[[1]]"
   ]
  },
  {
   "cell_type": "code",
   "execution_count": 10,
   "metadata": {
    "collapsed": false
   },
   "outputs": [
    {
     "data": {
      "text/html": [
       "<ol class=list-inline>\n",
       "\t<li>'a'</li>\n",
       "\t<li>'g'</li>\n",
       "\t<li>'t'</li>\n",
       "\t<li>'t'</li>\n",
       "\t<li>'g'</li>\n",
       "\t<li>'t'</li>\n",
       "\t<li>'t'</li>\n",
       "\t<li>'a'</li>\n",
       "\t<li>'g'</li>\n",
       "\t<li>'t'</li>\n",
       "\t<li>'c'</li>\n",
       "\t<li>'t'</li>\n",
       "\t<li>'a'</li>\n",
       "\t<li>'c'</li>\n",
       "\t<li>'g'</li>\n",
       "\t<li>'t'</li>\n",
       "\t<li>'g'</li>\n",
       "\t<li>'g'</li>\n",
       "\t<li>'a'</li>\n",
       "\t<li>'c'</li>\n",
       "\t<li>'c'</li>\n",
       "\t<li>'g'</li>\n",
       "\t<li>'a'</li>\n",
       "\t<li>'c'</li>\n",
       "\t<li>'a'</li>\n",
       "\t<li>'a'</li>\n",
       "\t<li>'g'</li>\n",
       "\t<li>'a'</li>\n",
       "\t<li>'a'</li>\n",
       "\t<li>'c'</li>\n",
       "\t<li>'a'</li>\n",
       "\t<li>'g'</li>\n",
       "\t<li>'t'</li>\n",
       "\t<li>'t'</li>\n",
       "\t<li>'t'</li>\n",
       "\t<li>'c'</li>\n",
       "\t<li>'g'</li>\n",
       "\t<li>'a'</li>\n",
       "\t<li>'a'</li>\n",
       "\t<li>'t'</li>\n",
       "\t<li>'c'</li>\n",
       "\t<li>'g'</li>\n",
       "\t<li>'g'</li>\n",
       "\t<li>'a'</li>\n",
       "\t<li>'a'</li>\n",
       "\t<li>'g'</li>\n",
       "\t<li>'c'</li>\n",
       "\t<li>'t'</li>\n",
       "\t<li>'t'</li>\n",
       "\t<li>'g'</li>\n",
       "</ol>\n"
      ],
      "text/latex": [
       "\\begin{enumerate*}\n",
       "\\item 'a'\n",
       "\\item 'g'\n",
       "\\item 't'\n",
       "\\item 't'\n",
       "\\item 'g'\n",
       "\\item 't'\n",
       "\\item 't'\n",
       "\\item 'a'\n",
       "\\item 'g'\n",
       "\\item 't'\n",
       "\\item 'c'\n",
       "\\item 't'\n",
       "\\item 'a'\n",
       "\\item 'c'\n",
       "\\item 'g'\n",
       "\\item 't'\n",
       "\\item 'g'\n",
       "\\item 'g'\n",
       "\\item 'a'\n",
       "\\item 'c'\n",
       "\\item 'c'\n",
       "\\item 'g'\n",
       "\\item 'a'\n",
       "\\item 'c'\n",
       "\\item 'a'\n",
       "\\item 'a'\n",
       "\\item 'g'\n",
       "\\item 'a'\n",
       "\\item 'a'\n",
       "\\item 'c'\n",
       "\\item 'a'\n",
       "\\item 'g'\n",
       "\\item 't'\n",
       "\\item 't'\n",
       "\\item 't'\n",
       "\\item 'c'\n",
       "\\item 'g'\n",
       "\\item 'a'\n",
       "\\item 'a'\n",
       "\\item 't'\n",
       "\\item 'c'\n",
       "\\item 'g'\n",
       "\\item 'g'\n",
       "\\item 'a'\n",
       "\\item 'a'\n",
       "\\item 'g'\n",
       "\\item 'c'\n",
       "\\item 't'\n",
       "\\item 't'\n",
       "\\item 'g'\n",
       "\\end{enumerate*}\n"
      ],
      "text/markdown": [
       "1. 'a'\n",
       "2. 'g'\n",
       "3. 't'\n",
       "4. 't'\n",
       "5. 'g'\n",
       "6. 't'\n",
       "7. 't'\n",
       "8. 'a'\n",
       "9. 'g'\n",
       "10. 't'\n",
       "11. 'c'\n",
       "12. 't'\n",
       "13. 'a'\n",
       "14. 'c'\n",
       "15. 'g'\n",
       "16. 't'\n",
       "17. 'g'\n",
       "18. 'g'\n",
       "19. 'a'\n",
       "20. 'c'\n",
       "21. 'c'\n",
       "22. 'g'\n",
       "23. 'a'\n",
       "24. 'c'\n",
       "25. 'a'\n",
       "26. 'a'\n",
       "27. 'g'\n",
       "28. 'a'\n",
       "29. 'a'\n",
       "30. 'c'\n",
       "31. 'a'\n",
       "32. 'g'\n",
       "33. 't'\n",
       "34. 't'\n",
       "35. 't'\n",
       "36. 'c'\n",
       "37. 'g'\n",
       "38. 'a'\n",
       "39. 'a'\n",
       "40. 't'\n",
       "41. 'c'\n",
       "42. 'g'\n",
       "43. 'g'\n",
       "44. 'a'\n",
       "45. 'a'\n",
       "46. 'g'\n",
       "47. 'c'\n",
       "48. 't'\n",
       "49. 't'\n",
       "50. 'g'\n",
       "\n",
       "\n"
      ],
      "text/plain": [
       " [1] \"a\" \"g\" \"t\" \"t\" \"g\" \"t\" \"t\" \"a\" \"g\" \"t\" \"c\" \"t\" \"a\" \"c\" \"g\" \"t\" \"g\" \"g\" \"a\"\n",
       "[20] \"c\" \"c\" \"g\" \"a\" \"c\" \"a\" \"a\" \"g\" \"a\" \"a\" \"c\" \"a\" \"g\" \"t\" \"t\" \"t\" \"c\" \"g\" \"a\"\n",
       "[39] \"a\" \"t\" \"c\" \"g\" \"g\" \"a\" \"a\" \"g\" \"c\" \"t\" \"t\" \"g\""
      ]
     },
     "metadata": {},
     "output_type": "display_data"
    }
   ],
   "source": [
    "myseq[1:50]"
   ]
  },
  {
   "cell_type": "markdown",
   "metadata": {},
   "source": [
    "정상적으로 denguseq[1:50] 을 입력했을때의 결과값과 동일하게 출력되는것을 보실 수 있습니다\n",
    "\n"
   ]
  },
  {
   "cell_type": "markdown",
   "metadata": {},
   "source": [
    "## DNA Sequnence 의 길이 구하기\n",
    "\n",
    "여기에서는 length() 함수를 이용하면 됩니다, 정상적인 경우에는 **10735** 개라고 출력됩니다"
   ]
  },
  {
   "cell_type": "code",
   "execution_count": 10,
   "metadata": {
    "collapsed": false
   },
   "outputs": [
    {
     "data": {
      "text/html": [
       "10735"
      ],
      "text/latex": [
       "10735"
      ],
      "text/markdown": [
       "10735"
      ],
      "text/plain": [
       "[1] 10735"
      ]
     },
     "metadata": {},
     "output_type": "display_data"
    }
   ],
   "source": [
    "length(myseq)"
   ]
  },
  {
   "cell_type": "markdown",
   "metadata": {},
   "source": [
    "### DNA Sequence 를 압축(Base Composition)하기\n",
    "\n",
    "4개의 다른 뉴클레오타이드 형태(\"A\", \"C\", \"G\", \"T\")로 압축하려면, table() 함수를 사용하면 쉽게 압축 할 수 있습니다\n",
    "\n",
    "정상적인 경우에는 아래와 같이 출력되게 됩니다"
   ]
  },
  {
   "cell_type": "code",
   "execution_count": 11,
   "metadata": {
    "collapsed": false
   },
   "outputs": [
    {
     "data": {
      "text/plain": [
       "myseq\n",
       "   a    c    g    t \n",
       "3426 2240 2770 2299 "
      ]
     },
     "metadata": {},
     "output_type": "display_data"
    }
   ],
   "source": [
    "table(myseq)"
   ]
  },
  {
   "cell_type": "markdown",
   "metadata": {},
   "source": [
    "### DNA 의 GC Content\n",
    "\n",
    "이분들이 이야기하기를, GC Content는 Genome Sequncing 에서 가장 핵심적인 것이라고 할 수 있다고 합니다\n",
    "\n",
    "### GC Content 란 무었일까?\n",
    "\n",
    "우선 아데닌(A), 타이민(T), 구아닌(G), 사이토신(C) - 4 종류의 염기가 이 DNA 를 구성하는데, 이중 구아닌과 사이토신이 전체 DNA 에서 함유된 량을 GC% 라고 한다.\n",
    "\n",
    "아데닌 타이민은 2개의 수소결합으로 이루어져 있지만, 구아닌과 사이토신은 3의 수소결합으로 이루어져 있어서 더 안정적이다\n",
    "\n",
    "GC% 가 높을수록 DNA 는 안정적이지만, 수소결합 자체가 강한 결합은 아니므로 안정적인 결합이 아니라고 할 수 있다\n",
    "\n",
    "다만 GC% 가 높을수록 DNA의 녹는 속도는 높아진다, DNA중 단백질을 발현시킬수 있는 코딩 부분은 다른 DNA 부분보다 GC% 가 높다\n",
    "\n",
    "출처 네이버 지식백과 ~~네이버가 이렇게 좋은 정보를 준 적은 없어~~\n",
    "\n",
    "### 계산 공식은?\n",
    "\n",
    "공식은 일반적으로 G와 C를 더한 값 * 100을 한 후에 ACGT 를 더한 값과 나누어 줍니다\n",
    "\n",
    "### 여기에서 GC 를 사용하려면? \n",
    "\n",
    "구지 일일히 계산할 필요 없이 gc() 함수를 사용하면 됩니다, 아래와 같이 입력하면 됩니다\n"
   ]
  },
  {
   "cell_type": "code",
   "execution_count": 12,
   "metadata": {
    "collapsed": false
   },
   "outputs": [
    {
     "data": {
      "text/html": [
       "0.466697717745692"
      ],
      "text/latex": [
       "0.466697717745692"
      ],
      "text/markdown": [
       "0.466697717745692"
      ],
      "text/plain": [
       "[1] 0.4666977"
      ]
     },
     "metadata": {},
     "output_type": "display_data"
    }
   ],
   "source": [
    "GC(myseq)"
   ]
  },
  {
   "cell_type": "markdown",
   "metadata": {},
   "source": [
    "그러면 여기에 100을 곱하면, 결과적으로 46.669771% 가 나오게 됩니다\n",
    "\n",
    "여기에서 왜 100을 곱하는지 궁금해서 알아보았더니, Gs 혹은 Cs 값이 0.4666977 이 나오기 때문에 \n",
    "\n",
    "Fraction 을 Percentage 로 변환해 주면, 46.669771% 이 나오게 되는 것입니다\n",
    "\n",
    "따라서 Percentage of GC Content 는 46.669771% 이라는 것을 알수 있게 됩니다\n",
    "\n",
    "### DNA Words \n",
    "\n",
    "DNA 에서 기본적으로 A(아데닌), T(타이민), G(구아닌), C(싸이토신) 4가지가 있지만, 이것을 2가지식 묶게 되면 \n",
    "\n",
    "AA, AT, AG, AC, TA, TT, TG, TC, GA, GT, GG, GC, CA, CT, CG, CC 로 만들어지고 3가지로 묶으면\n",
    "\n",
    "AAA, AAT, AAG 등으로 나오게 됩니다\n",
    "\n",
    "그럼 첫번째로 기본적인 ATGC의 갯수를 출력해봅시다, 여기에서 사용할 함수는 count() 함수를 사용하며\n",
    "\n",
    "count(변수, 출력할 자릿수) 의 형태로 사용합니다\n",
    "\n",
    "help('count') 를 입력하게 되면 더 상세한 정보를 알 수 있을것이라고 합니다"
   ]
  },
  {
   "cell_type": "code",
   "execution_count": 13,
   "metadata": {
    "collapsed": false
   },
   "outputs": [
    {
     "data": {
      "text/plain": [
       "\n",
       "   a    c    g    t \n",
       "3426 2240 2770 2299 "
      ]
     },
     "metadata": {},
     "output_type": "display_data"
    }
   ],
   "source": [
    "count(myseq, 1)"
   ]
  },
  {
   "cell_type": "code",
   "execution_count": 14,
   "metadata": {
    "collapsed": false
   },
   "outputs": [
    {
     "data": {
      "text/plain": [
       "\n",
       "  aa   ac   ag   at   ca   cc   cg   ct   ga   gc   gg   gt   ta   tc   tg   tt \n",
       "1108  720  890  708  901  523  261  555  976  500  787  507  440  497  832  529 "
      ]
     },
     "metadata": {},
     "output_type": "display_data"
    }
   ],
   "source": [
    "count(myseq, 2)"
   ]
  },
  {
   "cell_type": "code",
   "execution_count": 15,
   "metadata": {
    "collapsed": false
   },
   "outputs": [
    {
     "data": {
      "text/plain": [
       "\n",
       "aaa aac aag aat aca acc acg act aga agc agg agt ata atc atg att caa cac cag cat \n",
       "388 237 280 203 294 176  94 156 334 184 237 135 141 137 292 138 273 198 227 203 \n",
       "cca ccc ccg cct cga cgc cgg cgt cta ctc ctg ctt gaa gac gag gat gca gcc gcg gct \n",
       "236 106  60 121  70  51  69  71 131 121 186 116 346 197 249 184 169 129  58 144 \n",
       "gga ggc ggg ggt gta gtc gtg gtt taa tac tag tat tca tcc tcg tct tga tgc tgg tgt \n",
       "354 132 160 141  73 106 192 136 101  88 133 118 202 112  49 134 218 133 321 160 \n",
       "tta ttc ttg ttt \n",
       " 95 133 162 139 "
      ]
     },
     "metadata": {},
     "output_type": "display_data"
    }
   ],
   "source": [
    "count(myseq, 3)"
   ]
  },
  {
   "cell_type": "code",
   "execution_count": 17,
   "metadata": {
    "collapsed": false
   },
   "outputs": [],
   "source": [
    "help('count') # 많아서 여기에 출력되진 않습니다"
   ]
  },
  {
   "cell_type": "markdown",
   "metadata": {},
   "source": [
    "**DEN-1 (뎅기열 바이러스)에서 3번째 Element (G) 의 갯수를 출력**\n",
    "\n",
    "간단합니다 위에서 했던것처럼, dengutable 에다가 count 함수를 사용하는데, 우리는 ACGT 중에서 G 의 갯수를 알아볼 것이기에\n",
    "\n",
    "값을 1을 집어넣고, 3rd Element (G) 라고 하였으니, dengutable[[3]] 을 입력하면 갯수를 알 수 있으리라 봅니다\n",
    "\n",
    "( 근데요, 숫자 대신에 g 집어넣어도 되더라구요 )"
   ]
  },
  {
   "cell_type": "code",
   "execution_count": 7,
   "metadata": {
    "collapsed": false
   },
   "outputs": [
    {
     "data": {
      "text/html": [
       "2770"
      ],
      "text/latex": [
       "2770"
      ],
      "text/markdown": [
       "2770"
      ],
      "text/plain": [
       "[1] 2770"
      ]
     },
     "metadata": {},
     "output_type": "display_data"
    }
   ],
   "source": [
    "dengui <- count(myseq, 1)\n",
    "dengui[[3]]"
   ]
  },
  {
   "cell_type": "code",
   "execution_count": 8,
   "metadata": {
    "collapsed": false
   },
   "outputs": [
    {
     "data": {
      "text/html": [
       "2770"
      ],
      "text/latex": [
       "2770"
      ],
      "text/markdown": [
       "2770"
      ],
      "text/plain": [
       "[1] 2770"
      ]
     },
     "metadata": {},
     "output_type": "display_data"
    }
   ],
   "source": [
    "dengui[['g']]"
   ]
  },
  {
   "cell_type": "markdown",
   "metadata": {},
   "source": [
    "### 흥미진진한 문제풀이의 시간! \n",
    "\n",
    "#### 코드는 하단에 있습니다\n",
    "\n",
    "First. What are the last twenty nucleotides of the Dengue virus genome sequence?\n",
    "\n",
    "Answer : 결론적으로 뉴클레오타이드의 수를 구한후에 거기에서 [마지막숫자 - 20:마지막숫자] 를 출력해주면 되겠습니다\n",
    "\n",
    "Second. What is the length in nucleotides of the genome sequence for the bacterium Mycobacterium leprae strain TN (accession NC_002677)?\n",
    "\n",
    "Answer : 맨 위에 그 기다란 코드가 동작하면 모르겠지만, 동작하지 않으니, NCBI에 들가서 NC_002677 를 검색해서 FASTA 파일을 구해서 집어넣은 뒤에 길이를 구하는 length() 함수를 사용하여 보면 됩니다\n",
    "\n",
    "Third. How many of each of the four nucleotides A, C, T and G, and any other symbols, are there in the Mycobacterium leprae TN genome sequence?\n",
    "\n",
    "Answer : 그러면 이것도 맨 위에 그 기다란 코드가 동작하지 않으므로... NCBI 에 들어가서 나균(Mycobacterium leprae TN) 에 대한 FASTA 파일을 가져온 후에, count() 함수를 주고 1번 옵션을 주면 됩니다\n",
    "\n",
    "Fourth. What is the GC content of the Mycobacterium leprae TN genome sequence, when (i) all non-A/C/T/G nucleotides are included, (ii) non-A/C/T/G nucleotides are discarded?\n",
    "\n",
    "Answer : GC% 를 구하는 일인데, 아까 말했던 나균(Mycobacterium leprae TN)에서의 GC% 를 구하기 위하여 GC() 함수를 사용하고 거기에 100을 곱해주면 Percentage Of GC 를 구할 수 있습니다\n",
    "\n",
    "Fifth. How many of each of the four nucleotides A, C, T and G are there in the complement of the Mycobacterium leprae TN genome sequence?\n",
    "\n",
    "Answer : ~~담은 물안에 있다~~ 답은 문제안에 있는데, Complement 해야 하니까 모든 ACTG 를 압축한 후에 그의 대한 갯수를 구하면 되겠습니다\n",
    "\n",
    "help(comp) 먼저 검색해보면 되겠습니다, 역시 3번째 문제의 연장선입니다\n",
    "\n",
    "Sixth. How many occurrences of the DNA words CC, CG and GC occur in the Mycobacterium leprae TN genome sequence?\n",
    "\n",
    "Answer : 간단하잖아요? [['cc']], [['cg']], [['gc']]의 값을 구하면 되겠네요\n",
    "\n",
    "Last. How many occurrences of the DNA words CC, CG and GC occur in the (i) first 1000 and (ii) last 1000 nucleotides of the Mycobacterium leprae TN genome sequence?\n",
    "\n",
    "Answer : 역시나 간단한 문제입니다, CC, CG, GC 문제를 첫번째부터의 1000개와 마지막부터의 1000개부터의 값을 구하는 문제이니, 모든 문제의 해답을 합하면 됩니다.\n",
    "\n",
    "※ Mycobacterium leprae 이 무었일까 하고 검색해보니, \n",
    "\n",
    "나균(癩菌, Hansen’s coccus spirilly)은 온대에서 열대 지역에 걸쳐 발견되는, 그람양성 박테리아의 일종이며, 학명은 미코박테리움 레프라에(Mycobacterium leprae)이며 한센병의 병원균이다"
   ]
  },
  {
   "cell_type": "code",
   "execution_count": 16,
   "metadata": {
    "collapsed": false
   },
   "outputs": [
    {
     "data": {
      "text/html": [
       "10735"
      ],
      "text/latex": [
       "10735"
      ],
      "text/markdown": [
       "10735"
      ],
      "text/plain": [
       "[1] 10735"
      ]
     },
     "metadata": {},
     "output_type": "display_data"
    },
    {
     "data": {
      "text/html": [
       "<ol class=list-inline>\n",
       "\t<li>'g'</li>\n",
       "\t<li>'c'</li>\n",
       "\t<li>'t'</li>\n",
       "\t<li>'g'</li>\n",
       "\t<li>'t'</li>\n",
       "\t<li>'t'</li>\n",
       "\t<li>'g'</li>\n",
       "\t<li>'a'</li>\n",
       "\t<li>'a'</li>\n",
       "\t<li>'t'</li>\n",
       "\t<li>'c'</li>\n",
       "\t<li>'a'</li>\n",
       "\t<li>'a'</li>\n",
       "\t<li>'c'</li>\n",
       "\t<li>'a'</li>\n",
       "\t<li>'g'</li>\n",
       "\t<li>'g'</li>\n",
       "\t<li>'t'</li>\n",
       "\t<li>'t'</li>\n",
       "\t<li>'c'</li>\n",
       "\t<li>'t'</li>\n",
       "</ol>\n"
      ],
      "text/latex": [
       "\\begin{enumerate*}\n",
       "\\item 'g'\n",
       "\\item 'c'\n",
       "\\item 't'\n",
       "\\item 'g'\n",
       "\\item 't'\n",
       "\\item 't'\n",
       "\\item 'g'\n",
       "\\item 'a'\n",
       "\\item 'a'\n",
       "\\item 't'\n",
       "\\item 'c'\n",
       "\\item 'a'\n",
       "\\item 'a'\n",
       "\\item 'c'\n",
       "\\item 'a'\n",
       "\\item 'g'\n",
       "\\item 'g'\n",
       "\\item 't'\n",
       "\\item 't'\n",
       "\\item 'c'\n",
       "\\item 't'\n",
       "\\end{enumerate*}\n"
      ],
      "text/markdown": [
       "1. 'g'\n",
       "2. 'c'\n",
       "3. 't'\n",
       "4. 'g'\n",
       "5. 't'\n",
       "6. 't'\n",
       "7. 'g'\n",
       "8. 'a'\n",
       "9. 'a'\n",
       "10. 't'\n",
       "11. 'c'\n",
       "12. 'a'\n",
       "13. 'a'\n",
       "14. 'c'\n",
       "15. 'a'\n",
       "16. 'g'\n",
       "17. 'g'\n",
       "18. 't'\n",
       "19. 't'\n",
       "20. 'c'\n",
       "21. 't'\n",
       "\n",
       "\n"
      ],
      "text/plain": [
       " [1] \"g\" \"c\" \"t\" \"g\" \"t\" \"t\" \"g\" \"a\" \"a\" \"t\" \"c\" \"a\" \"a\" \"c\" \"a\" \"g\" \"g\" \"t\" \"t\"\n",
       "[20] \"c\" \"t\""
      ]
     },
     "metadata": {},
     "output_type": "display_data"
    }
   ],
   "source": [
    "# 1번 문제에 대한 답\n",
    "length(myseq) # 먼저 뉴클레오타이드의 갯수를 구하고\n",
    "myseq[10715:10735] # 그 후에 -20 한 수를 넣어서 결과값을 낸다"
   ]
  },
  {
   "cell_type": "code",
   "execution_count": 17,
   "metadata": {
    "collapsed": false
   },
   "outputs": [
    {
     "data": {
      "text/html": [
       "3268203"
      ],
      "text/latex": [
       "3268203"
      ],
      "text/markdown": [
       "3268203"
      ],
      "text/plain": [
       "[1] 3268203"
      ]
     },
     "metadata": {},
     "output_type": "display_data"
    }
   ],
   "source": [
    "# 2번 문제의 대한 답 - FASTA DATA의 크기가 5메가 정도 됩니다\n",
    "NC002677 <- read.fasta(file = \"NA1.fasta\")[[1]]\n",
    "length(NC002677)"
   ]
  },
  {
   "cell_type": "code",
   "execution_count": 19,
   "metadata": {
    "collapsed": false
   },
   "outputs": [
    {
     "data": {
      "text/plain": [
       "\n",
       "     a      c      g      t \n",
       "687041 938713 950202 692247 "
      ]
     },
     "metadata": {},
     "output_type": "display_data"
    }
   ],
   "source": [
    "# 3번문제에 대한 답\n",
    "count(NC002677, 1)"
   ]
  },
  {
   "cell_type": "code",
   "execution_count": 23,
   "metadata": {
    "collapsed": false
   },
   "outputs": [
    {
     "data": {
      "text/html": [
       "57.7967464077354"
      ],
      "text/latex": [
       "57.7967464077354"
      ],
      "text/markdown": [
       "57.7967464077354"
      ],
      "text/plain": [
       "[1] 57.79675"
      ]
     },
     "metadata": {},
     "output_type": "display_data"
    }
   ],
   "source": [
    "# 4번문제에 대한 답\n",
    "GC(NC002677) * 100"
   ]
  },
  {
   "cell_type": "code",
   "execution_count": 25,
   "metadata": {
    "collapsed": false
   },
   "outputs": [
    {
     "data": {
      "text/plain": [
       "result\n",
       "     a      c      g      t \n",
       "692247 950202 938713 687041 "
      ]
     },
     "metadata": {},
     "output_type": "display_data"
    }
   ],
   "source": [
    "# 5번문제에 대한 답\n",
    "#help('comp')\n",
    "result <- comp(NC002677)\n",
    "table(result)"
   ]
  },
  {
   "cell_type": "code",
   "execution_count": 27,
   "metadata": {
    "collapsed": false
   },
   "outputs": [
    {
     "data": {
      "text/html": [
       "236971"
      ],
      "text/latex": [
       "236971"
      ],
      "text/markdown": [
       "236971"
      ],
      "text/plain": [
       "[1] 236971"
      ]
     },
     "metadata": {},
     "output_type": "display_data"
    },
    {
     "data": {
      "text/html": [
       "306986"
      ],
      "text/latex": [
       "306986"
      ],
      "text/markdown": [
       "306986"
      ],
      "text/plain": [
       "[1] 306986"
      ]
     },
     "metadata": {},
     "output_type": "display_data"
    },
    {
     "data": {
      "text/html": [
       "293261"
      ],
      "text/latex": [
       "293261"
      ],
      "text/markdown": [
       "293261"
      ],
      "text/plain": [
       "[1] 293261"
      ]
     },
     "metadata": {},
     "output_type": "display_data"
    }
   ],
   "source": [
    "CountNC002677 <- count(NC002677, 2)\n",
    "CountNC002677[['cc']]\n",
    "CountNC002677[['cg']]\n",
    "CountNC002677[['gc']]"
   ]
  },
  {
   "cell_type": "code",
   "execution_count": 28,
   "metadata": {
    "collapsed": false
   },
   "outputs": [
    {
     "data": {
      "text/html": [
       "82"
      ],
      "text/latex": [
       "82"
      ],
      "text/markdown": [
       "82"
      ],
      "text/plain": [
       "[1] 82"
      ]
     },
     "metadata": {},
     "output_type": "display_data"
    },
    {
     "data": {
      "text/html": [
       "92"
      ],
      "text/latex": [
       "92"
      ],
      "text/markdown": [
       "92"
      ],
      "text/plain": [
       "[1] 92"
      ]
     },
     "metadata": {},
     "output_type": "display_data"
    },
    {
     "data": {
      "text/html": [
       "63"
      ],
      "text/latex": [
       "63"
      ],
      "text/markdown": [
       "63"
      ],
      "text/plain": [
       "[1] 63"
      ]
     },
     "metadata": {},
     "output_type": "display_data"
    },
    {
     "data": {
      "text/html": [
       "157"
      ],
      "text/latex": [
       "157"
      ],
      "text/markdown": [
       "157"
      ],
      "text/plain": [
       "[1] 157"
      ]
     },
     "metadata": {},
     "output_type": "display_data"
    },
    {
     "data": {
      "text/html": [
       "153"
      ],
      "text/latex": [
       "153"
      ],
      "text/markdown": [
       "153"
      ],
      "text/plain": [
       "[1] 153"
      ]
     },
     "metadata": {},
     "output_type": "display_data"
    },
    {
     "data": {
      "text/html": [
       "147"
      ],
      "text/latex": [
       "147"
      ],
      "text/markdown": [
       "147"
      ],
      "text/plain": [
       "[1] 147"
      ]
     },
     "metadata": {},
     "output_type": "display_data"
    }
   ],
   "source": [
    "NC002677F1000 <- count(NC002677[0:1000], 2)\n",
    "NC002677F1000[['cc']]\n",
    "NC002677F1000[['cg']]\n",
    "NC002677F1000[['gc']]\n",
    "NC002677L1000 <- count(NC002677[3266203:3268203], 2)\n",
    "NC002677L1000[['cc']]\n",
    "NC002677L1000[['cg']]\n",
    "NC002677L1000[['gc']]"
   ]
  }
 ],
 "metadata": {
  "kernelspec": {
   "display_name": "R",
   "language": "R",
   "name": "ir"
  },
  "language_info": {
   "codemirror_mode": "r",
   "file_extension": ".r",
   "mimetype": "text/x-r-source",
   "name": "R",
   "pygments_lexer": "r",
   "version": "3.2.3"
  }
 },
 "nbformat": 4,
 "nbformat_minor": 0
}
