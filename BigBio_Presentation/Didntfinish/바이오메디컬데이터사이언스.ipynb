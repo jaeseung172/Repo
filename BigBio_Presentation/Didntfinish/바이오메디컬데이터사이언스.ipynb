{
 "cells": [
  {
   "cell_type": "markdown",
   "metadata": {},
   "source": [
    "## PH525x Series - Biomedical Data Science\n",
    "\n",
    "#### PH525x Series - 바이오의학 데이터 과학\n",
    "\n",
    "- How To install R? (R을 어떻게 설치하나요?) \n",
    "\n",
    "여기서는 윈도우, 리눅스(우분투), 맥의 설치방법에 관하여 이야기할 것입니다.\n",
    "\n",
    "우선, 밑의 링크를 들어갑시다 (한국 미러 입니다만, 어딜 들어가나 같습니다)\n",
    "\n",
    "[Cran Nexr](http://cran.nexr.com/), [서울대 보건대학원](http://healthstat.snu.ac.kr/CRAN/), [UNIST Genome Inst.](http://cran.biodisk.org/)\n",
    "\n",
    "![](Scr1.png)\n",
    "\n",
    "여기에서 각 운영체제에 따라서 윈도우, 리눅스, 맥 을 클릭하여 설치 도구를 다운로드 한 후에, 적절한 지시에 따르면 됩니다.\n",
    "\n",
    "우분투는 터미널을 여신 후에 이 커맨드 한방이면 설치됩니다\n",
    "\n",
    "```\n",
    "sudo apt-get install r-base\n",
    "R // R을 입력하면 R 커맨드라인 창이 나올 것입니다.\n",
    "```\n",
    "\n",
    "- R Studio 설치 (무조건은 아니지만, 정신건강에 이롭습니다)\n",
    "\n",
    "[여기](https://www.rstudio.com/products/rstudio/download3/)를 클릭하여 접속하면, R스튜디오를 다운로드받아 설치할 수 있는 창이 나옵니다, 맨 왼쪽에 있는 R-Studio 를 클릭하여 다운로드 하시면 됩니다.\n",
    "\n",
    "- 주피터 노트북에 커널 설치하기\n",
    "```\n",
    "// Anaconda 혹은 Miniconda 를 설치하세요\n",
    "install.packages(c('repr', 'IRdisplay', 'crayon', 'pbdZMQ', 'devtools'))\n",
    "devtools::install_github('IRkernel/IRkernel')\n",
    "IRkernel::installspec()  # to register the kernel in the current R installation\n",
    "```\n",
    "\n",
    "### Hello World R! "
   ]
  },
  {
   "cell_type": "code",
   "execution_count": 1,
   "metadata": {
    "collapsed": false
   },
   "outputs": [
    {
     "name": "stdout",
     "output_type": "stream",
     "text": [
      "[1] \"Hello World!\"\n"
     ]
    }
   ],
   "source": [
    "print(\"Hello World!\")"
   ]
  },
  {
   "cell_type": "markdown",
   "metadata": {},
   "source": [
    "### Learn R Basics\n",
    "\n",
    "지금부터 리스트와 "
   ]
  },
  {
   "cell_type": "code",
   "execution_count": null,
   "metadata": {
    "collapsed": true
   },
   "outputs": [],
   "source": []
  }
 ],
 "metadata": {
  "kernelspec": {
   "display_name": "R",
   "language": "R",
   "name": "ir"
  },
  "language_info": {
   "codemirror_mode": "r",
   "file_extension": ".r",
   "mimetype": "text/x-r-source",
   "name": "R",
   "pygments_lexer": "r",
   "version": "3.3.1"
  }
 },
 "nbformat": 4,
 "nbformat_minor": 1
}
