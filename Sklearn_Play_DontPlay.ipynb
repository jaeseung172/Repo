{
 "cells": [
  {
   "cell_type": "markdown",
   "metadata": {},
   "source": [
    "# Play Don't Play \n",
    "\n",
    "원 글은 [여기](http://www2.cs.uregina.ca/~dbd/cs831/notes/ml/dtrees/c4.5/c4.5_prob1.html)(영어) 에서 볼 수 있습니다\n",
    "\n",
    "만든 이 : Seungwoo Lee\n",
    "\n",
    "우리는 지금부터 파이썬의 Sklearn DecisionTree 를 사용하여 Play Don't Play 에 관한것을 만들어 보도록 하겠습니다\n",
    "\n",
    "### 데이터셋\n",
    "\n",
    "Outlook|Temperature|Humidity|Windy|Play(Pos.), Don't Play(Neg.)\n",
    "-------------|--------------\n",
    "sunny|85|85|false|Don't Play\n",
    "sunny|80|90|true|Don't Play\n",
    "overcast|83|78|false|Play\n",
    "rain|70|96|false|Play\n",
    "rain|68|80|false|Play\n",
    "rain|65|70|true|Don't Play\n",
    "overcast|64|65|true|Play\n",
    "sunny|72|95|false|Don't Play\n",
    "sunny|69|70|false|Play\n",
    "rain|75|80|false|Play\n",
    "sunny|75|70|true|Play\n",
    "overcast|72|90|true|Play\n",
    "overcast|81|75|false|Play\n",
    "rain|71|80|true|Don't Play\n",
    "\n",
    "### 각 항목 데이터셋 에 관한 설명\n",
    "\n",
    "1. Outlook(날씨 상태) : Suuny(맑음), Overcast(흐림), Rain(비옴) → 0, 1, 2 로 바꿈\n",
    "\n",
    "2. Temperature(온도) : int 형.\n",
    "\n",
    "3. Humidity(습도) : int 형.\n",
    "\n",
    "4. Windy(바람) : True or False → 0 혹은 1로 바꿈\n",
    "\n",
    "5. Play(놀았는가 안놀았는가?) : True or False. → 0 혹은 1 로 바꿈\n",
    "\n",
    "**먼저 Features 에 1~4번째까지의 것들을 넣고, Labels 에 놀았는가 안 놀았는가에 대하여 넣었습니다** "
   ]
  },
  {
   "cell_type": "code",
   "execution_count": 1,
   "metadata": {
    "collapsed": true
   },
   "outputs": [],
   "source": [
    "from sklearn import tree"
   ]
  },
  {
   "cell_type": "code",
   "execution_count": 2,
   "metadata": {
    "collapsed": true
   },
   "outputs": [],
   "source": [
    "features = [[0, 85, 85, 1], \n",
    "            [0, 80, 90, 0], \n",
    "            [1, 80, 90, 1], \n",
    "            [2, 70, 96, 1],\n",
    "            [2, 68, 80, 1],\n",
    "            [2, 65, 70, 0],\n",
    "            [1, 64, 65, 0],\n",
    "            [0, 72, 95, 1],\n",
    "            [0, 69, 70, 1],\n",
    "            [2, 75, 80, 1],\n",
    "            [0, 75, 70, 0],\n",
    "            [1, 72, 90, 0],\n",
    "            [1, 81, 75, 1],\n",
    "            [2, 71, 80, 0]]\n",
    "labels = [1, 1, 0, 0, 0, 1, 0, 1, 0, 0, 0, 0, 0, 1]"
   ]
  },
  {
   "cell_type": "code",
   "execution_count": 3,
   "metadata": {
    "collapsed": true
   },
   "outputs": [],
   "source": [
    "clf = tree.DecisionTreeClassifier()\n",
    "clf = clf.fit(features, labels)"
   ]
  },
  {
   "cell_type": "code",
   "execution_count": 4,
   "metadata": {
    "collapsed": false
   },
   "outputs": [
    {
     "name": "stdout",
     "output_type": "stream",
     "text": [
      "[1]\n"
     ]
    }
   ],
   "source": [
    "print(clf.predict([[2, 17, 80, 0]]))"
   ]
  },
  {
   "cell_type": "markdown",
   "metadata": {},
   "source": [
    "결과는 안놀았다는 결과가 나온다.\n",
    "\n",
    "그러면 다음에는 어떻게 Prediction 을 하였는지 그 순서도를 뽑아보도록 하겠습니다."
   ]
  }
 ],
 "metadata": {
  "kernelspec": {
   "display_name": "Python 3",
   "language": "python",
   "name": "python3"
  },
  "language_info": {
   "codemirror_mode": {
    "name": "ipython",
    "version": 3
   },
   "file_extension": ".py",
   "mimetype": "text/x-python",
   "name": "python",
   "nbconvert_exporter": "python",
   "pygments_lexer": "ipython3",
   "version": "3.5.1"
  }
 },
 "nbformat": 4,
 "nbformat_minor": 0
}
