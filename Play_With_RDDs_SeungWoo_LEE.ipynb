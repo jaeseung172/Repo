{
 "metadata": {
  "name": "",
  "signature": "sha256:add2428a58857114fd2bb2a3b832da22ccaa401c32c12bef48d2ee5cea80251b"
 },
 "nbformat": 3,
 "nbformat_minor": 0,
 "worksheets": [
  {
   "cells": [
    {
     "cell_type": "markdown",
     "metadata": {},
     "source": [
      "# Learning Spark Programming with RDDs\n",
      "* \ubaa8\ub4e0 \ucf54\ub4dc\ub294 [\uc800\uc790\uc758 GITHUB](https://github.com/databricks/learning-spark) \uc5d0\uc11c \ub2e4\uc6b4\ub85c\ub4dc \ubc1b\uc73c\uc2e4 \uc218 \uc788\uc2b5\ub2c8\ub2e4\n",
      "\n",
      "# Example 3-1 textFile() \ud568\uc218\ub97c \uc774\uc6a9\ud558\uc5ec RDD \uc0dd\uc131\ud574\ubcf4\uae30\n",
      "\n",
      "* \uccab\ubc88\uc9f8 \ud56d\ubaa9\uc5d0\uc11c\ub294 \uc601\uc5b4 \ub2e8\uc5b4\ub85c \ud30c\uc774\uc36c \uc774\ub77c\ub294 \uae00\uc790\uac00 \ub098\uc624\ub294 \uac83\uc744 \uac80\uc0c9\ud558\uc5ec \uccab\ubc88\uc9f8\uc758 \uac83\uc73c\ub85c \ubc18\ud658\ud574 \ubcf4\uaca0\uc73c\ub098, \uc800\ub294 indians\ub97c \ubc18\ud658\ud574 \ubcf4\ub3c4\ub85d \ud558\uaca0\uc2b5\ub2c8\ub2e4\n",
      "\n",
      "# \uc778\ub514\uc548 \uc1a1\n",
      "\n",
      "One little\n",
      "\n",
      "two little\n",
      "\n",
      "three little indians\n",
      "\n",
      "for little\n",
      "\n",
      "five little\n",
      "\n",
      "six little indians\n",
      "\n",
      "seven little\n",
      "\n",
      "eight little\n",
      "\n",
      "nine little indians\n",
      "\n",
      "ten little indians\n",
      "\n",
      "END! "
     ]
    },
    {
     "cell_type": "code",
     "collapsed": false,
     "input": [
      "lines = sc.textFile(\"README.md\")\n",
      "pythonLines = lines.filter(lambda line: \"indians\" in line)\n",
      "pythonLines.first()"
     ],
     "language": "python",
     "metadata": {},
     "outputs": [
      {
       "metadata": {},
       "output_type": "pyout",
       "prompt_number": 10,
       "text": [
        "u'three little indians'"
       ]
      }
     ],
     "prompt_number": 10
    },
    {
     "cell_type": "markdown",
     "metadata": {},
     "source": [
      "\uadf8\ub7ec\uba74 count \ud568\uc218\ub97c \uc0ac\uc6a9\ud558\uc5ec indians \uac00 \ub4e4\uc5b4\uac04 \ubb38\uc7a5\uc758 \uac1c\uc218\ub97c \uc138\uc5b4 \ubcf4\ub3c4\ub85d \ud558\uaca0\uc2b5\ub2c8\ub2e4\n",
      "\n",
      "\ub2f5\uc740 4\uac1c\uac00 \ub098\uc624\uaca0\uc9c0\uc694"
     ]
    },
    {
     "cell_type": "code",
     "collapsed": false,
     "input": [
      "pythonLines.count()"
     ],
     "language": "python",
     "metadata": {},
     "outputs": [
      {
       "metadata": {},
       "output_type": "pyout",
       "prompt_number": 12,
       "text": [
        "4"
       ]
      }
     ],
     "prompt_number": 12
    },
    {
     "cell_type": "markdown",
     "metadata": {},
     "source": [
      "# \uadf8\ub7ec\uba74 \uc5ec\uae30\uc11c \uc815\ub9ac\n",
      "\n",
      "\uc2a4\ud30c\ud06c\uc640 \uc258 \uc138\uc158\uc740 \uc774\ub807\uac8c \uc791\ub3d9\ub429\ub2c8\ub2e4\n",
      "\n",
      "1. input RDD \ub97c \uc678\ubd80\uc758 \ub370\uc774\ud130\ub85c\ubd80\ud130 \uc0dd\uc131\ud569\ub2c8\ub2e4\n",
      "2. filter() \ubb38 \uac19\uc740\uac83\uc744 \uc0ac\uc6a9\ud558\uc5ec \uac78\ub7ec\uc9c4 RDD\ub97c \uc0dd\uc131\ud569\ub2c8\ub2e4\n",
      "3. \uc2a4\ud30c\ud06c\ud55c\ud14c persist() \ubb38\uc744 \uc0ac\uc6a9\ud558\uc5ec \uadf8\uac83\uc744 \uc7ac\uc0ac\uc6a9\ud560 \uac83\uc778\uc9c0 \ubb3c\uc5b4\ubd05\ub2c8\ub2e4\n",
      "4. count() \ud639\uc740 first() \uac19\uc740\uac83\uc744 \uc0ac\uc6a9\ud558\uc5ec Parallel Computation \uc744 \ud569\ub2c8\ub2e4\n",
      "\n",
      "# RDD \ub97c \uc0dd\uc131\ud574\ubd05\uc2dc\ub2e4 - paralleize \uba54\uc3d8\ub4dc\ub97c \uc0ac\uc6a9\ud574\uc11c \ub9d0\uc774\uc8e0\n",
      "\n",
      "lines = sc.parallelize([\"pandas\", \"i like pandas\"]) \ub97c \uc785\ub825\ud574\uc11c \ub85c\ub4dc\ud558\uac70\ub098\n",
      "\n",
      "lines = sc.textFile(\"/\ub9ac\ub4dc\ubbf8/\ub9c8\ud06c\ub2e4\uc6b4\uc758/\ub9c1\ud06c\") \ub97c \uc785\ub825\ud574\uc11c \ud14d\uc2a4\ud2b8 \uac12\uc744 \ub85c\ub4dc\ud569\ub2c8\ub2e4\n",
      "\n",
      "( \ub9c8\ud06c\ub2e4\uc6b4\uc774\uc5d0\uc694 ! \uc2e4\ud589 \uc548\ub418\uc694 ! )\n",
      "\n",
      "# RDD Operations\n",
      "\n",
      "RDD\ub294 \ub450\uac00\uc9c0\uc758 \uc624\ud37c\ub808\uc774\uc158\uc744 \uc9c0\uc6d0\ud569\ub2c8\ub2e4, \uadf8\uac83\uc740 \ubc14\ub85c transformations \uacfc actions \uc785\ub2c8\ub2e4\n",
      "\n"
     ]
    },
    {
     "cell_type": "code",
     "collapsed": false,
     "input": [],
     "language": "python",
     "metadata": {},
     "outputs": []
    }
   ],
   "metadata": {}
  }
 ]
}